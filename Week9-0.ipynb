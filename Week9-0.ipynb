{
 "cells": [
  {
   "cell_type": "markdown",
   "id": "b1488c85",
   "metadata": {
    "editable": true,
    "slideshow": {
     "slide_type": "slide"
    },
    "tags": []
   },
   "source": [
    "# The Key Terms for Friday\n",
    "\n",
    "* inspection"
   ]
  },
  {
   "cell_type": "markdown",
   "id": "e09d8c13",
   "metadata": {
    "editable": true,
    "slideshow": {
     "slide_type": "subslide"
    },
    "tags": []
   },
   "source": [
    "# Everything in Python is an Object\n",
    "\n",
    "In python, everything is an object:\n",
    "\n",
    "* a boolean is an object\n",
    "* a dictionary is an object\n",
    "* a function is an object\n",
    "\n",
    "Because of this, everything is **inspectable**.\n",
    "\n",
    "Today we will look at some ways to inspect things."
   ]
  },
  {
   "cell_type": "markdown",
   "id": "0a4604a3",
   "metadata": {},
   "source": [
    "## `help`\n",
    "\n",
    "The first is `help`. We've used `help` to find out about functions and methods. Let's try `help` on an instance of a simple data type."
   ]
  },
  {
   "cell_type": "code",
   "execution_count": null,
   "id": "b167424b",
   "metadata": {},
   "outputs": [],
   "source": [
    "# let's make an int\n",
    "my_int = 2\n",
    "\n",
    "# now let's inspect the int\n",
    "help(my_int)"
   ]
  },
  {
   "cell_type": "markdown",
   "id": "3206f29a",
   "metadata": {},
   "source": [
    "Let's try it on some spaCy things!"
   ]
  },
  {
   "cell_type": "code",
   "execution_count": null,
   "id": "f5abc511",
   "metadata": {},
   "outputs": [],
   "source": [
    "import spacy\n",
    "\n",
    "nlp = spacy.load('en_core_web_sm')\n",
    "\n",
    "doc = nlp('Maine is beautiful in the fall!')\n",
    "\n",
    "for ent in doc.ents:\n",
    "    print(help(ent))"
   ]
  },
  {
   "cell_type": "markdown",
   "id": "9f6d6723",
   "metadata": {},
   "source": [
    "Well, that's interesting! What does it mean?"
   ]
  },
  {
   "cell_type": "markdown",
   "id": "b47521bf",
   "metadata": {},
   "source": [
    "# `isinstance`\n",
    "\n",
    "Now let's try the function `isinstance`. First, let's use `help` on it."
   ]
  },
  {
   "cell_type": "code",
   "execution_count": null,
   "id": "587298db",
   "metadata": {},
   "outputs": [],
   "source": [
    "# get help on instanceof\n",
    "help(isinstance)"
   ]
  },
  {
   "cell_type": "markdown",
   "id": "062dd8a4",
   "metadata": {},
   "source": [
    "Now let's try it on `my_int`."
   ]
  },
  {
   "cell_type": "code",
   "execution_count": null,
   "id": "eee9b82e",
   "metadata": {},
   "outputs": [],
   "source": [
    "# is my_int an int?\n",
    "print(isinstance(my_int, int))\n",
    "\n",
    "# is my_int a list?\n",
    "print(isinstance(my_int, list))\n"
   ]
  },
  {
   "cell_type": "markdown",
   "id": "24cde188",
   "metadata": {},
   "source": [
    "`isinstance` can check if something is an int, float, str(ing), bool(ean), dict(ionary), tuple, list or set. For more information, see [this page](https://docs.python.org/3/library/functions.html#isinstance). "
   ]
  },
  {
   "cell_type": "markdown",
   "id": "08dd57e3",
   "metadata": {},
   "source": [
    "## `issubclass`\n",
    "\n",
    "`issubclass` can check if something is a subclass of something. "
   ]
  },
  {
   "cell_type": "code",
   "execution_count": null,
   "id": "fe6089bb",
   "metadata": {},
   "outputs": [],
   "source": [
    "class one():\n",
    "    \"\"\"A throwaway class.\"\"\"\n",
    "    def __init__(self):\n",
    "        self.type = \"one\"\n",
    "\n",
    "class two(one):\n",
    "    \"\"\"Another throwaway class, subclass of one.\"\"\"\n",
    "    def __init__(self):\n",
    "        self.type = \"two\"\n",
    "\n",
    "# is two a subclass of one?\n",
    "print(issubclass(two, one))"
   ]
  },
  {
   "cell_type": "markdown",
   "id": "a16d62b1",
   "metadata": {},
   "source": [
    "Let's come back to `isinstance`. Run the code cell below and see what you think of the output."
   ]
  },
  {
   "cell_type": "code",
   "execution_count": null,
   "id": "afe57747",
   "metadata": {},
   "outputs": [],
   "source": [
    "my_one_instance = one()\n",
    "my_two_instance = two()\n",
    "\n",
    "print(\"my_one_instance vs one, \", isinstance(my_one_instance, one))\n",
    "print(\"my_two_instance vs two, \", isinstance(my_two_instance, two))\n",
    "print(\"my_two_instance vs one, \", isinstance(my_two_instance, one))"
   ]
  },
  {
   "cell_type": "markdown",
   "id": "70ec05f3",
   "metadata": {},
   "source": [
    "## `__class__`\n",
    "\n",
    "Finally, we can check the `__class__` attribute of anything."
   ]
  },
  {
   "cell_type": "code",
   "execution_count": null,
   "id": "d5d0a5c1",
   "metadata": {},
   "outputs": [],
   "source": [
    "# check the __class__ attribute of my_int"
   ]
  },
  {
   "cell_type": "code",
   "execution_count": null,
   "id": "4815e1f6",
   "metadata": {},
   "outputs": [],
   "source": [
    "# check the __class__ attribute of my_two_instance\n"
   ]
  }
 ],
 "metadata": {
  "kernelspec": {
   "display_name": "Python 3 (ipykernel)",
   "language": "python",
   "name": "python3"
  },
  "language_info": {
   "codemirror_mode": {
    "name": "ipython",
    "version": 3
   },
   "file_extension": ".py",
   "mimetype": "text/x-python",
   "name": "python",
   "nbconvert_exporter": "python",
   "pygments_lexer": "ipython3",
   "version": "3.10.8"
  }
 },
 "nbformat": 4,
 "nbformat_minor": 5
}
