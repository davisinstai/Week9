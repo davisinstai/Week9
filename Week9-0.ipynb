{
 "cells": [
  {
   "cell_type": "markdown",
   "id": "b1488c85",
   "metadata": {
    "editable": true,
    "slideshow": {
     "slide_type": "slide"
    },
    "tags": []
   },
   "source": [
    "# The Key Terms for Friday\n",
    "\n",
    "* copy"
   ]
  },
  {
   "cell_type": "markdown",
   "id": "e09d8c13",
   "metadata": {
    "editable": true,
    "slideshow": {
     "slide_type": "subslide"
    },
    "tags": []
   },
   "source": [
    "# Copying Simple Python Objects\n",
    "\n",
    "Remember that in python *everything is an object*. Today we will learn that not all objects are treated the same way in the python memory model (remember [week 7](https://github.com/davisinstai/pass_by_object_reference)?)\n",
    "\n",
    "First, let's look at simple python data types.\n",
    "\n",
    "How do we copy an integer, float, string or boolean?"
   ]
  },
  {
   "cell_type": "code",
   "execution_count": 11,
   "id": "b167424b",
   "metadata": {},
   "outputs": [],
   "source": [
    "# let's make an int\n",
    "my_int = 2\n",
    "\n",
    "# now copy my_int\n",
    "my_new_int = int(my_int)\n",
    "\n",
    "# now print my_int and my_new_int\n",
    "\n",
    "\n",
    "# now add 4 to my_int\n",
    "\n",
    "\n",
    "# now print my_int and my_new_int\n"
   ]
  },
  {
   "cell_type": "markdown",
   "id": "9f6d6723",
   "metadata": {},
   "source": [
    "Notice that when you change my_int, my_new_int doesn't change. Once you've made a copy, they are *independent*. In the python heap, there are two *separate* integers.\n",
    "\n",
    "You can use the code template above to test that this is true for floating point numbers, booleans and strings."
   ]
  },
  {
   "cell_type": "markdown",
   "id": "b47521bf",
   "metadata": {},
   "source": [
    "# Copying Complex Python Data Types\n",
    "\n",
    "Let's use that same code template, but for a list, set or dictionary."
   ]
  },
  {
   "cell_type": "code",
   "execution_count": 17,
   "id": "587298db",
   "metadata": {},
   "outputs": [
    {
     "name": "stdout",
     "output_type": "stream",
     "text": [
      "[[1], [2], [3]] [[1], [2], [3]]\n",
      "[[1, 4], [2], [3]] [[1, 4], [2], [3]]\n"
     ]
    }
   ],
   "source": [
    "# let's make a list of lists\n",
    "my_list = [[1], [2], [3]]\n",
    "\n",
    "# now copy my_list\n",
    "my_new_list = list(my_list)\n",
    "\n",
    "# now print my_list and my_new_list\n",
    "\n",
    "# now append 4 to the 0th element of my_list\n",
    "my_list[0].append(4)\n",
    "\n",
    "# now print my_list and my_new_list\n",
    "\n"
   ]
  },
  {
   "cell_type": "markdown",
   "id": "062dd8a4",
   "metadata": {},
   "source": [
    "**What ... just happened?**\n",
    "\n",
    "Well, basically it all comes down to that python heap again. When we ask python to **copy** an object:\n",
    "\n",
    "* if it's a very simple object (an int, float, string or boolean, or a list, set or dictionary of simple data types) it makes a copy of the *object* \n",
    "* if it's anything else (for example, a list of lists, a set of sets, a dictionary of lists, an instance of a programmer-defined class), it just assigns the new variable to that complex thing\n",
    "\n",
    "This is what we call **shallow copy** and it's the default python copy."
   ]
  },
  {
   "cell_type": "markdown",
   "id": "24cde188",
   "metadata": {},
   "source": [
    "Use the code cell below to confirm this for a dictionary of lists (like `{'first': [1,2,3], 'second': [4,5,6]}`). "
   ]
  },
  {
   "cell_type": "code",
   "execution_count": 21,
   "id": "3fce496b",
   "metadata": {},
   "outputs": [],
   "source": [
    "# let's make a dictionary of lists\n",
    "my_dict = {'first': [1,2,3], 'second': [4,5,6]}\n",
    "\n",
    "# now copy my_dict\n",
    "my_new_dict = my_dict\n",
    "\n",
    "# now print my_dict and my_new_dict\n",
    "\n",
    "# now append 4 to the 0th element of my_dict\n",
    "\n",
    "# now print my_dict and my_new_dict\n"
   ]
  },
  {
   "cell_type": "markdown",
   "id": "08dd57e3",
   "metadata": {},
   "source": [
    "Quite often, you will want to do a **deep copy** (a copy 'from the ground up'). Imagine that you have a class with an instance variable that is a dictionary! If you make a copy of an object of that class, you definitely don't want that instance variable turning into a *de facto* class variable!\n",
    "\n",
    "To make a deep copy we use the package `copy`."
   ]
  },
  {
   "cell_type": "code",
   "execution_count": 23,
   "id": "fe6089bb",
   "metadata": {},
   "outputs": [],
   "source": [
    "import copy\n",
    "\n",
    "# let's make a dictionary of lists\n",
    "my_dict = {'first': [1,2,3], 'second': [4,5,6]}\n",
    "\n",
    "# now DEEP copy my_dict\n",
    "my_new_dict = copy.deepcopy(my_dict)\n",
    "\n",
    "# now print my_dict and my_new_dict\n",
    "\n",
    "# now append 4 to the 0th element of my_dict\n",
    "\n",
    "# now print my_dict and my_new_dict\n"
   ]
  },
  {
   "cell_type": "markdown",
   "id": "a16d62b1",
   "metadata": {},
   "source": [
    "The `copy` package also has a function `copy`. This makes shallow copies.\n",
    "\n",
    "If you want to copy things around in your code, it's best practice for readability to:\n",
    "\n",
    "1. Use the `copy` package and specify either `copy` or `deepcopy` for every complex python data type\n",
    "2. Add a comment saying what you are trying to do"
   ]
  },
  {
   "cell_type": "markdown",
   "id": "70ec05f3",
   "metadata": {},
   "source": [
    "## Visual Exercise\n",
    "\n",
    "Let's use some numbers written on paper (simple data types!) and some Halloween candy (complex data types!) to model shallow and deep copy. We will put some numbers-on-papers and some pieces of candy, each 'tagged' with a variable name, in the heap at the front of the classroom. Then, we will shallow copy some of the numbers and some of the candies. Then we will deep copy some of the candies."
   ]
  },
  {
   "cell_type": "markdown",
   "id": "b6ced0ad",
   "metadata": {},
   "source": [
    "# Copying, Efficiency and Memory \n",
    "\n",
    "*Which do you think is more fast: shallow copy or deep copy?*\n",
    "\n",
    "*Which do you think uses more memory: shallow copy or deep copy?*"
   ]
  }
 ],
 "metadata": {
  "kernelspec": {
   "display_name": "Python 3 (ipykernel)",
   "language": "python",
   "name": "python3"
  },
  "language_info": {
   "codemirror_mode": {
    "name": "ipython",
    "version": 3
   },
   "file_extension": ".py",
   "mimetype": "text/x-python",
   "name": "python",
   "nbconvert_exporter": "python",
   "pygments_lexer": "ipython3",
   "version": "3.10.8"
  }
 },
 "nbformat": 4,
 "nbformat_minor": 5
}
