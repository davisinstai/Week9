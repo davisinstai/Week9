{
 "cells": [
  {
   "cell_type": "markdown",
   "id": "a42006a6",
   "metadata": {},
   "source": [
    "# The Key Terms for Monday\n",
    "\n",
    "* class\n",
    "* object\n",
    "* method\n",
    "* attribute\n",
    "* constructor"
   ]
  },
  {
   "cell_type": "markdown",
   "id": "2b6c8706",
   "metadata": {},
   "source": [
    "# Classes and objects\n",
    "\n",
    "Object-oriented programming (OOP) allows us to encapsulate functions relevant to manipulating a particular data structure. \n",
    "\n",
    "Object-oriented programming relies on the concepts of:\n",
    "\n",
    "* **classes**\n",
    "* **objects**\n",
    "\n",
    "A class defines a set of variables and functions that together describe a data structure. A class may define:\n",
    "\n",
    "* **attributes** - variables (with values)\n",
    "* **methods** - functions\n",
    "\n",
    "An object is an *instance* of a class. It will have all the attributes specified in the class definition, and will have access to all the class methods."
   ]
  },
  {
   "cell_type": "markdown",
   "id": "bd4e07ce",
   "metadata": {},
   "source": [
    "# An Analogy\n",
    "\n",
    "We are all familiar with the notion of species, right?\n",
    "\n",
    "In general:\n",
    "\n",
    "* what does a bird *have*? (its attributes)\n",
    "* what can a bird *do*? (its methods)\n",
    "\n",
    "How about:\n",
    "\n",
    "* what does a tree *have*? (its attributes)\n",
    "* what can a tree *do*? (its methods)"
   ]
  },
  {
   "cell_type": "markdown",
   "id": "024279f3",
   "metadata": {},
   "source": [
    "# Classes we know in python\n",
    "\n",
    "Here are some classes in python:\n",
    "\n",
    "* list\n",
    "* set\n",
    "* dictionary\n",
    "* string\n",
    "\n",
    "And here are some classes in spaCy:\n",
    "\n",
    "* token\n",
    "* entity\n",
    "* document\n",
    "* NLP engine"
   ]
  },
  {
   "cell_type": "markdown",
   "id": "fc400e05",
   "metadata": {},
   "source": [
    "# Creating a Class in Python\n",
    "\n",
    "Let's write some code to create a class for a **span**. A span is a sequence of characters in a text, such as a token, entity or sentence in a document."
   ]
  },
  {
   "cell_type": "code",
   "execution_count": null,
   "id": "fe0ae60c",
   "metadata": {},
   "outputs": [],
   "source": [
    "# Create a class named 'span'\n",
    "class span:\n",
    "    \"\"\"A simple class that models a text span.\"\"\"\n",
    "    \n",
    "    # This is the class constructor\n",
    "    # self is always the object\n",
    "    def __init__(self, document, start, end): \n",
    "        \"\"\"\n",
    "        Initialize any new instances of class span with the following attributes\n",
    "        \n",
    "        :param document: the text the span is part of\n",
    "        :type document: str\n",
    "        :param start: the start character of the span in the text\n",
    "        :type start: int\n",
    "        :param end: the end character of the span in the text\n",
    "        :type end: int\n",
    "        \"\"\"\n",
    "        self.document = document\n",
    "        # now you! create an instance attribute for argument start\n",
    "\n",
    "        # now you! create an instance attribute for argument end\n",
    "\n",
    "\n",
    "    # This is a class method, so it has to take self as a parameter. We call it using the dot notation.\n",
    "    def length(self): \n",
    "        \"\"\"\n",
    "        Calculates the length of the span\n",
    "        \n",
    "        :returns: the length of the span\n",
    "        :rtype: int\n",
    "        \"\"\"\n",
    "        # define length!\n",
    "        return ??\n",
    "    \n",
    "    # This is another class method.\n",
    "    def text(self):\n",
    "        \"\"\"\n",
    "        Returns the text of the span\n",
    "        \n",
    "        :returns: the text of the span\n",
    "        :rtype: str\n",
    "        \"\"\"\n",
    "        return self.document[self.start:self.end]"
   ]
  },
  {
   "cell_type": "markdown",
   "id": "c637d06b",
   "metadata": {},
   "source": [
    "\n",
    "We start a class definition with the word `class`, then the class name, then ':'. If you are using `camelCase` then your class names should start with a capital letter. If you aren't, they should not.\n",
    "\n",
    "Notice that you can have a docstring for a class definition, just like you can for a function definition!"
   ]
  },
  {
   "cell_type": "markdown",
   "id": "f9097cf4",
   "metadata": {},
   "source": [
    "# Constructors and Attributes\n",
    "\n",
    "Every class definition includes the definition of a class **constructor**, a special function called `__init__` that defines the attributes for the instances of the class. (Make sure to always use two underscores before and after.) The `__init__` function *initializes* the objects of a class. It determines what attributes will be initialized when an instance of the class is created. The first parameter for `__init__` must be `self`. Then we can define any number of additional parameters.\n",
    "\n",
    "In our `__init__` function, we then set a number of **instance variables** with prefixed with `self.`. This makes them available for each object. \n",
    "\n",
    "*What instance variables do we define above?*"
   ]
  },
  {
   "cell_type": "markdown",
   "id": "41be8387",
   "metadata": {},
   "source": [
    "# Methods\n",
    "\n",
    "Now we can explain why some functions have to have a string/list/dictionary to be callable. Compare:\n",
    "\n",
    "* `len(str)`\n",
    "* `str.lower()`\n",
    "\n",
    "The first is a *function* and can operate on many types of thing. The second is a string **method**; it's a function that is limited to strings."
   ]
  },
  {
   "cell_type": "markdown",
   "id": "b78e6871",
   "metadata": {},
   "source": [
    "Each method includes the parameter `self`. We can call a method with *dot notation* on a particular object of the class. \n",
    "\n",
    "When we refer to an attribute in a method, we use `self.` to access the attribute."
   ]
  },
  {
   "cell_type": "markdown",
   "id": "7e626beb",
   "metadata": {},
   "source": [
    "# Objects (Instances)\n",
    "\n",
    "We create a particular **instance** of the `span` class by using an assignment statement. We call the `span` class like a function and pass in the corresponding required arguments that match the parameters in the `span` definition. \n",
    "\n",
    "Note: The `self` parameter is not explicitly provided; it is implicit.\n",
    "\n",
    "Note: The `__init__` function returns an **object**. This is not explicitly stated (through a `return` statement); it is implicit.\n",
    "\n",
    "In the code cell below, we make a span object (an instance of the `span` class)."
   ]
  },
  {
   "cell_type": "code",
   "execution_count": null,
   "id": "bf37e870",
   "metadata": {},
   "outputs": [],
   "source": [
    "# Create an object span1\n",
    "\n",
    "span1 = span('Colby College is a private liberal arts college in Waterville, Maine. Founded in 1813 as the Maine Literary and Theological Institution, it was renamed Waterville College in 1821. The donations of Christian philanthropist Gardner Colby saw the institution renamed again to Colby University before settling on its current title, reflecting its liberal arts college curriculum, in 1899. Approximately 2,000 students from more than 60 countries are enrolled annually. The college offers 54 major fields of study and 30 minors. Located in central Maine, the 714-acre Neo-Georgian campus sits atop Mayflower Hill and overlooks downtown Waterville and the Kennebec River Valley. Along with fellow Maine institutions Bates College and Bowdoin College, Colby competes in the New England Small College Athletic Conference (NESCAC) and the Colby-Bates-Bowdoin Consortium.',\n",
    "             6, 12) "
   ]
  },
  {
   "cell_type": "markdown",
   "id": "962f1d34",
   "metadata": {},
   "source": [
    "# Calling Methods\n",
    "\n",
    "In the code cell below, call method `text` on `span1`. Use the \"dot notation\". A method is a function and can require parameters, so it always includes parentheses (even if no argument is passed).\n",
    "\n",
    "There's a bug in `text`! Fix it, then rerun this cell.\n",
    "\n",
    "*What is the explanation for this bug?*"
   ]
  },
  {
   "cell_type": "code",
   "execution_count": null,
   "id": "bbf97594",
   "metadata": {},
   "outputs": [],
   "source": [
    "# Call method text on span1\n"
   ]
  },
  {
   "cell_type": "markdown",
   "id": "81e132fb",
   "metadata": {},
   "source": [
    "# Accessing Attributes\n",
    "\n",
    "We can also access the attributes of `span1` using dot notation. Since these are attributes (kind of like object properties), they do not require parentheses `()` at the end."
   ]
  },
  {
   "cell_type": "code",
   "execution_count": null,
   "id": "cf4419bf",
   "metadata": {},
   "outputs": [],
   "source": [
    "# Get the value of the attribute start of span1\n"
   ]
  },
  {
   "cell_type": "markdown",
   "id": "8096687a",
   "metadata": {},
   "source": [
    "# Modifying Attributes\n",
    "\n",
    "We can modify the attributes of an object by simply assigning a new value."
   ]
  },
  {
   "cell_type": "code",
   "execution_count": null,
   "id": "43699894",
   "metadata": {},
   "outputs": [],
   "source": [
    "# Modify start in span to match the first occurrence of 'private'\n",
    "\n",
    "\n",
    "# Modify end to match the end of 'private'\n",
    "\n",
    "\n",
    "# Print the text in the span\n"
   ]
  },
  {
   "cell_type": "markdown",
   "id": "9d36e74d",
   "metadata": {},
   "source": [
    "We can also add a new attribute to an existing instance, even if the attribute was not defined in the class's constructor (the `__init__` definition). \n",
    "\n",
    "However, it will only be available for that instance and not any other instances of the class."
   ]
  },
  {
   "cell_type": "code",
   "execution_count": null,
   "id": "109d34f9",
   "metadata": {},
   "outputs": [],
   "source": [
    "# Create a new instance attribute, 'upper', and assign a value to it\n",
    "span1.upper = span1.text().upper()\n",
    "\n",
    "# Print span1's upper attribute\n",
    "\n",
    "# Make a second span, span2\n",
    "\n",
    "# Try to get an upper attribute out of span2!\n"
   ]
  },
  {
   "cell_type": "markdown",
   "id": "ce8d0bb4",
   "metadata": {},
   "source": [
    "Although just now we have directly accessed the attributes of an object, it is better to use **getters** and **setters**. \n",
    "\n",
    "* A getter method gets the value of an attribute\n",
    "* A setter method sets the value of an attribute\n",
    "\n",
    "*Why is this better?*\n",
    "\n",
    "Go back to the class definition and define getters and setters for the attributes `start`, `end` and `document`.\n",
    "\n",
    "Test them in the code cell below."
   ]
  },
  {
   "cell_type": "code",
   "execution_count": null,
   "id": "30fc9850",
   "metadata": {},
   "outputs": [],
   "source": [
    "# Test getters and setters here\n"
   ]
  }
 ],
 "metadata": {
  "celltoolbar": "Raw Cell Format",
  "kernelspec": {
   "display_name": "Python 3 (ipykernel)",
   "language": "python",
   "name": "python3"
  },
  "language_info": {
   "codemirror_mode": {
    "name": "ipython",
    "version": 3
   },
   "file_extension": ".py",
   "mimetype": "text/x-python",
   "name": "python",
   "nbconvert_exporter": "python",
   "pygments_lexer": "ipython3",
   "version": "3.10.8"
  },
  "toc": {
   "base_numbering": 1,
   "nav_menu": {},
   "number_sections": true,
   "sideBar": true,
   "skip_h1_title": true,
   "title_cell": "Table of Contents",
   "title_sidebar": "Contents",
   "toc_cell": false,
   "toc_position": {},
   "toc_section_display": true,
   "toc_window_display": false
  }
 },
 "nbformat": 4,
 "nbformat_minor": 5
}
