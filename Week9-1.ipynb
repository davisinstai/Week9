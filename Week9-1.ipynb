{
 "cells": [
  {
   "cell_type": "markdown",
   "id": "a42006a6",
   "metadata": {},
   "source": [
    "# The Key Terms for Monday\n",
    "\n",
    "* corpus"
   ]
  },
  {
   "cell_type": "markdown",
   "id": "2b6c8706",
   "metadata": {},
   "source": [
    "# The Corpus Class\n",
    "\n",
    "For the past month, we have been passing around \"two-level dictionaries\" as corpora. For example, in projects 3a we had a corpus (in test.jsonl) that looked like this:"
   ]
  },
  {
   "cell_type": "code",
   "execution_count": 7,
   "id": "bbd87803",
   "metadata": {},
   "outputs": [
    {
     "name": "stdout",
     "output_type": "stream",
     "text": [
      "{'1': {'author': 'Amanda Stent',\n",
      "       'datePublished': '2023-10-10',\n",
      "       'docType': 'paragraph',\n",
      "       'fullText': 'Autumn in Maine is really beautiful. The leaves fall from '\n",
      "                   'the trees, exposing the sky and the iconic Maine rocks. '\n",
      "                   'People go leaf peeping or apple picking, or sit around a '\n",
      "                   'campfire in the evenings.',\n",
      "       'id': '1'},\n",
      " '2': {'author': 'Amanda Stent',\n",
      "       'datePublished': '2023-10-10',\n",
      "       'docType': 'paragraph',\n",
      "       'fullText': 'Winter in Maine is also beautiful. The snow kills all the '\n",
      "                   'deer ticks. People break out their skis, snow shoes and '\n",
      "                   'snowmobiles or go ice fishing. Just be sure to dress warm!',\n",
      "       'id': '2'}}\n"
     ]
    }
   ],
   "source": [
    "import pprint\n",
    "\n",
    "# make a corpus\n",
    "corpus = {'1': {\"author\": \"Amanda Stent\", \"fullText\": \"Autumn in Maine is really beautiful. The leaves fall from the trees, exposing the sky and the iconic Maine rocks. People go leaf peeping or apple picking, or sit around a campfire in the evenings.\", \"datePublished\": \"2023-10-10\", \"docType\": \"paragraph\", \"id\": \"1\"},\n",
    "          '2': {\"author\": \"Amanda Stent\", \"fullText\": \"Winter in Maine is also beautiful. The snow kills all the deer ticks. People break out their skis, snow shoes and snowmobiles or go ice fishing. Just be sure to dress warm!\", \"datePublished\": \"2023-10-10\", \"docType\": \"paragraph\", \"id\": \"2\"}}\n",
    "\n",
    "pprint.pprint(corpus)\n"
   ]
  },
  {
   "cell_type": "markdown",
   "id": "0165033f",
   "metadata": {},
   "source": [
    "it worked, but it wasn't well documented and we only used the module method for encapsulation. \n",
    "\n",
    "Now we can bring together everything we have learned about top-down design, classes and inheritance to make a proper corpus class!"
   ]
  },
  {
   "cell_type": "markdown",
   "id": "76fcabe5",
   "metadata": {},
   "source": [
    "# Step 1: What is the problem?\n",
    "\n",
    "The problem is that using a dictionary (of dictionaries) to represent a corpus can be:\n",
    "\n",
    "* confusing\n",
    "* hard to read\n",
    "\n",
    "Also, having the data structure for a corpus apart from the code that manipulates it can make the code harder to understand and less reusable. "
   ]
  },
  {
   "cell_type": "markdown",
   "id": "9c3a2f09",
   "metadata": {},
   "source": [
    "What are some requirements for a corpus class? List them here:\n",
    "\n",
    "1. Requirement 1\n",
    "2. Requirement 2\n",
    "3. Requirement 3"
   ]
  },
  {
   "cell_type": "markdown",
   "id": "e2c90c22",
   "metadata": {},
   "source": [
    "# Step 2: Make a model\n",
    "\n",
    "What do we want from a corpus? Document it here. You can refer back to Week 8-0, only now you know object oriented programming!"
   ]
  },
  {
   "cell_type": "markdown",
   "id": "41f67e03",
   "metadata": {},
   "source": [
    "# Step 3: Analyze the model\n",
    "\n",
    "Make a class for a corpus *without* metadata. Provide the function *signatures* but don't worry about filling them in with code blocks. Use `pass`. We will call this our pseudocode.\n",
    "\n",
    "Now make a subclass for a corpus *with* metadata."
   ]
  },
  {
   "cell_type": "markdown",
   "id": "7522157a",
   "metadata": {},
   "source": [
    "# Step 4: Find the solution\n",
    "\n",
    "Copy code from projects 3a and 3b into the corpus classes."
   ]
  },
  {
   "cell_type": "markdown",
   "id": "56f9451f",
   "metadata": {},
   "source": [
    "# Step 5: Check the solution"
   ]
  },
  {
   "cell_type": "markdown",
   "id": "ce5a50f5",
   "metadata": {},
   "source": [
    "# Step 6: Document the solution"
   ]
  }
 ],
 "metadata": {
  "celltoolbar": "Raw Cell Format",
  "kernelspec": {
   "display_name": "Python 3 (ipykernel)",
   "language": "python",
   "name": "python3"
  },
  "language_info": {
   "codemirror_mode": {
    "name": "ipython",
    "version": 3
   },
   "file_extension": ".py",
   "mimetype": "text/x-python",
   "name": "python",
   "nbconvert_exporter": "python",
   "pygments_lexer": "ipython3",
   "version": "3.10.8"
  },
  "toc": {
   "base_numbering": 1,
   "nav_menu": {},
   "number_sections": true,
   "sideBar": true,
   "skip_h1_title": true,
   "title_cell": "Table of Contents",
   "title_sidebar": "Contents",
   "toc_cell": false,
   "toc_position": {},
   "toc_section_display": true,
   "toc_window_display": false
  }
 },
 "nbformat": 4,
 "nbformat_minor": 5
}
