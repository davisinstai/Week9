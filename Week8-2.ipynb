{
 "cells": [
  {
   "cell_type": "markdown",
   "id": "a42006a6",
   "metadata": {},
   "source": [
    "# The Key Terms for Wednesday\n",
    "\n",
    "* inheritance\n",
    "* class attribute\n",
    "* class method"
   ]
  },
  {
   "cell_type": "markdown",
   "id": "b4492e78",
   "metadata": {},
   "source": [
    "## Inheritance"
   ]
  },
  {
   "cell_type": "markdown",
   "id": "eacc48e1",
   "metadata": {},
   "source": [
    "Object oriented programming is a nice way to encapsulate code and data for readability.\n",
    "\n",
    "Another advantage of object oriented programming is that we can use **inheritance** for even more code reuse."
   ]
  },
  {
   "cell_type": "markdown",
   "id": "51a0c5a9",
   "metadata": {},
   "source": [
    "# An Analogy\n",
    "\n",
    "You *inherit* genes from your parents, who in turn inherited them from their parents, and so on. These genes express themselves in your physical makeup and behavior. \n",
    "\n",
    "Similarly, in python a class can *inherit* from one or more other classes. When it does so, that reflects in its physical makeup (its attributes) and its behavior (its methods)."
   ]
  },
  {
   "cell_type": "markdown",
   "id": "d1417c10",
   "metadata": {},
   "source": [
    "# Defining Inheritance\n",
    "\n",
    "To indicate that a class inherits from (is a subclass of) another class, we list the superclass in the constructor of the subclass.\n",
    "\n",
    "Here we define a class `token`, which inherits from `span`.\n",
    "\n",
    "First we define `span`."
   ]
  },
  {
   "cell_type": "code",
   "execution_count": 1,
   "id": "d135b9f8",
   "metadata": {},
   "outputs": [],
   "source": [
    "# paste your class definition for span from Monday here\n"
   ]
  },
  {
   "cell_type": "markdown",
   "id": "5ef35188",
   "metadata": {},
   "source": [
    "Then we define `token`. Notice:\n",
    "\n",
    "* `span` is given in the class definition for `token`\n",
    "* in the constructor for `token`, we call the constructor for `span` to take care of attributes inherited from `span`\n",
    "* we can also add attributes specific to `token` objects, and methods specific to `token` objects\n",
    "* `token` methods can access any attributes or methods a token has, including those inherited from `span`"
   ]
  },
  {
   "cell_type": "code",
   "execution_count": 2,
   "id": "7e4f4397",
   "metadata": {},
   "outputs": [],
   "source": [
    "class token(span):\n",
    "    \"\"\"A class to represent a single token. Subclass of span.\"\"\"\n",
    "    \n",
    "    def __init__(self, document, start, end, pos_tag): # constructor\n",
    "        \"\"\"\n",
    "        Initialize any new instances of class token with the following attributes\n",
    "        \n",
    "        :param document: the text the token is part of\n",
    "        :type document: str\n",
    "        :param start: the start character of the token in the text\n",
    "        :type start: int\n",
    "        :param end: the end character of the token in the text\n",
    "        :type end: int\n",
    "        :param pos_tag: part of speech tag for the token\n",
    "        :type pos_tag: str\n",
    "        \"\"\"\n",
    "        super().__init__(document, start, end) # let the parent class take care of the existing attributes\n",
    "        self.pos_tag = pos_tag  # then add any new instance attributes\n",
    "    \n",
    "    # now you! define a getter and a setter for the pos_tag attribute here!\n",
    "\n",
    "    # let's add another method for the token class!\n",
    "    def is_digit(self):\n",
    "        \"\"\"Is this token an text representation of an integer number?\"\"\"\n",
    "        for char in self.text():\n",
    "            if char not in ['0', '1', '2', '3', '4', '5', '6', '7', '8', '9']:\n",
    "                return False\n",
    "        return True"
   ]
  },
  {
   "cell_type": "markdown",
   "id": "5f132780",
   "metadata": {},
   "source": [
    "Now let's make a token and call some methods!"
   ]
  },
  {
   "cell_type": "code",
   "execution_count": 3,
   "id": "efe1acd1",
   "metadata": {},
   "outputs": [
    {
     "name": "stdout",
     "output_type": "stream",
     "text": [
      "5\n",
      "False\n"
     ]
    }
   ],
   "source": [
    "# make a token from the text 'Trixie is a good dog!', corresponding to the word 'Trixie', with the correct part of speech tag\n",
    "\n",
    "# call the length method inherited from span\n",
    "\n",
    "# call the is_digit method from token\n"
   ]
  },
  {
   "cell_type": "markdown",
   "id": "dee48f2e",
   "metadata": {},
   "source": [
    "# Instance vs Class Attributes\n",
    "\n",
    "Any attribute you define in a class's `__init__` constructor are **instance attributes**. Each object of the class gets one independent copy of the attribute. Each copy has its own location in the python memory heap (remember week 7?).\n",
    "\n",
    "If you want to, you can create a **class attribute**. You define class attributes inside the class definition but outside the constructor. All objects of the class *share the same* location in the python heap for each class attribute.\n",
    "\n",
    "Copy the definition of the `span` class below, and make the `document` attribute a class attribute. \n",
    "\n",
    "*Why might a class attribute be a good thing?*"
   ]
  },
  {
   "cell_type": "code",
   "execution_count": null,
   "id": "a77f3b55",
   "metadata": {},
   "outputs": [],
   "source": []
  },
  {
   "cell_type": "markdown",
   "id": "ebc742c5",
   "metadata": {},
   "source": [
    "Now make two spans:\n",
    "\n",
    "* one with document 'Rock is a big cat!'\n",
    "* one with document 'Roll is a small cat!'\n",
    "\n",
    "Then, use the `text` method to get the text of each span. \n",
    "\n",
    "*What do you observe?*\n",
    "\n",
    "*Did we do right to make `document` a class attribute?*"
   ]
  },
  {
   "cell_type": "code",
   "execution_count": null,
   "id": "e55151fc",
   "metadata": {},
   "outputs": [],
   "source": []
  },
  {
   "cell_type": "markdown",
   "id": "76f67061",
   "metadata": {},
   "source": [
    "Differences between **instance attributes** and **class attributes**: \n",
    "* **Instance attributes** are defined in the `__init__` function. **Class attributes** are defined outside of it.\n",
    "* The values of **instance attributes** are possibily different for each instance of a class. However, the values of **class attributes** are shared by all the instances of a class.  "
   ]
  },
  {
   "cell_type": "markdown",
   "id": "b3622232",
   "metadata": {},
   "source": [
    "# Instance vs Class Method"
   ]
  },
  {
   "cell_type": "markdown",
   "id": "cad6f97d",
   "metadata": {},
   "source": [
    "An **instance method** receives the instance of the class (`self`) as the first argument. With `self`, we can access the instance attributes of an object.\n",
    "\n",
    "Just as we can have instance attributes, we can have **instance methods**. We use a `@classmethod` *decorator* to indicate a method is a class method. \n",
    "\n",
    "To call an instance method, we need an instance (object) of the class. To call a class method, we don't need an instance of the class; we can just say `classname.methodname()`.\n",
    "\n",
    "Here we define a class `entity` that inherits from `span`, and has a class method that updates a class attribute."
   ]
  },
  {
   "cell_type": "code",
   "execution_count": 4,
   "id": "a8189e3d",
   "metadata": {},
   "outputs": [],
   "source": [
    "class entity(span):\n",
    "    \"\"\"A named entity.\"\"\"\n",
    "    \n",
    "    use_numeric_entity_types = True   ## class attribute\n",
    "    \n",
    "    def __init__(self, document, start, end, label): ## constructor\n",
    "        \"\"\"\n",
    "        Initialize any new instances of class token with the following attributes\n",
    "        \n",
    "        :param document: the text the entity is part of\n",
    "        :type document: str\n",
    "        :param start: the start character of the entity in the text\n",
    "        :type start: int\n",
    "        :param end: the end character of the entity in the text\n",
    "        :type end: int\n",
    "        :param label: named entity tag for the entity\n",
    "        :type label: str\n",
    "        \"\"\"\n",
    "        super().__init__(document, start, end) # let the parent class take care of the existing attributes\n",
    "        self.label = label  # then add any new instance attributes\n",
    "             \n",
    "    @classmethod ## Add a decorator on the top of the class method\n",
    "    def set_use_numeric_entity_types(cls, value):  ## class method    \n",
    "        # now you! define it\n",
    "\n",
    "    @classmethod ## Add a decorator on the top of the class method\n",
    "    def get_use_numeric_entity_types(cls, value):  ## class method    \n",
    "        # now you! define it\n",
    "\n",
    "    # this is an instance method that also shows why getters are useful!\n",
    "    def get_label(self):\n",
    "        # check the class attribute!\n",
    "        if self.use_numeric_entity_types == True or label not in ['CARDINAL', 'ORDINAL']:\n",
    "            return self.label\n",
    "        else:\n",
    "            return None\n",
    "\n",
    "       "
   ]
  },
  {
   "cell_type": "markdown",
   "id": "a340d5a1",
   "metadata": {},
   "source": [
    "In the code cell below, make two entities, one corresponding to 'Rock' in 'Rock is a big cat!' and one to 'Roll' in 'Roll is a small cat!'."
   ]
  },
  {
   "cell_type": "code",
   "execution_count": null,
   "id": "cd6db27d",
   "metadata": {},
   "outputs": [],
   "source": []
  },
  {
   "cell_type": "markdown",
   "id": "3d43d639",
   "metadata": {},
   "source": [
    "Now get the label for each entity."
   ]
  },
  {
   "cell_type": "code",
   "execution_count": null,
   "id": "91b25698",
   "metadata": {},
   "outputs": [],
   "source": []
  },
  {
   "cell_type": "markdown",
   "id": "45385374",
   "metadata": {},
   "source": [
    "Now set `use_numeric_entity_types` to `False`."
   ]
  },
  {
   "cell_type": "code",
   "execution_count": null,
   "id": "c9f20362",
   "metadata": {},
   "outputs": [],
   "source": []
  },
  {
   "cell_type": "markdown",
   "id": "2769404f",
   "metadata": {},
   "source": [
    "Now get the label for each entity.\n",
    "\n",
    "*What do you observe?*"
   ]
  },
  {
   "cell_type": "markdown",
   "id": "32a0c1ee",
   "metadata": {},
   "source": [
    "# Inheritance and Scope\n",
    "\n",
    "Every method in any object has access to:\n",
    "\n",
    "* its own attributes (from its class or any classes that inherit from its class)\n",
    "* its own methods\n",
    "* its class attributes\n",
    "* its class methods"
   ]
  },
  {
   "cell_type": "markdown",
   "id": "d560b336",
   "metadata": {},
   "source": []
  }
 ],
 "metadata": {
  "celltoolbar": "Raw Cell Format",
  "kernelspec": {
   "display_name": "Python 3 (ipykernel)",
   "language": "python",
   "name": "python3"
  },
  "language_info": {
   "codemirror_mode": {
    "name": "ipython",
    "version": 3
   },
   "file_extension": ".py",
   "mimetype": "text/x-python",
   "name": "python",
   "nbconvert_exporter": "python",
   "pygments_lexer": "ipython3",
   "version": "3.10.8"
  },
  "toc": {
   "base_numbering": 1,
   "nav_menu": {},
   "number_sections": true,
   "sideBar": true,
   "skip_h1_title": true,
   "title_cell": "Table of Contents",
   "title_sidebar": "Contents",
   "toc_cell": false,
   "toc_position": {},
   "toc_section_display": true,
   "toc_window_display": false
  }
 },
 "nbformat": 4,
 "nbformat_minor": 5
}
